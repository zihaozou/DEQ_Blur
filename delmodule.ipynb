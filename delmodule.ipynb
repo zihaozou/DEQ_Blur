{
 "cells": [
  {
   "cell_type": "code",
   "execution_count": 1,
   "metadata": {},
   "outputs": [],
   "source": [
    "import torch"
   ]
  },
  {
   "cell_type": "code",
   "execution_count": 2,
   "metadata": {},
   "outputs": [],
   "source": [
    "x=torch.load('sigma_3.0.pt')"
   ]
  },
  {
   "cell_type": "code",
   "execution_count": 3,
   "metadata": {},
   "outputs": [],
   "source": [
    "x=x['model']"
   ]
  },
  {
   "cell_type": "code",
   "execution_count": 4,
   "metadata": {},
   "outputs": [],
   "source": [
    "ks=list(x.keys())"
   ]
  },
  {
   "cell_type": "code",
   "execution_count": 5,
   "metadata": {},
   "outputs": [],
   "source": [
    "for k in ks:\n",
    "    x[k.replace('module.','')]=x[k]\n",
    "    del x[k]"
   ]
  },
  {
   "cell_type": "code",
   "execution_count": 6,
   "metadata": {},
   "outputs": [
    {
     "data": {
      "text/plain": [
       "odict_keys(['dnn.dncnn_3.0.weight', 'dnn.dncnn_3.0.bias', 'dnn.dncnn_3.2.weight', 'dnn.dncnn_3.2.bias', 'dnn.dncnn_3.4.weight', 'dnn.dncnn_3.4.bias', 'dnn.dncnn_3.6.weight', 'dnn.dncnn_3.6.bias', 'dnn.dncnn_3.8.weight', 'dnn.dncnn_3.8.bias', 'dnn.dncnn_3.10.weight', 'dnn.dncnn_3.10.bias', 'dnn.dncnn_3.12.weight', 'dnn.dncnn_3.12.bias', 'dnn.dncnn_3.14.weight', 'dnn.dncnn_3.14.bias', 'dnn.dncnn_3.16.weight', 'dnn.dncnn_3.16.bias', 'dnn.dncnn_3.18.weight', 'dnn.dncnn_3.18.bias', 'dnn.dncnn_3.20.weight', 'dnn.dncnn_3.20.bias', 'dnn.dncnn_3.22.weight', 'dnn.dncnn_3.22.bias', 'dnn.dncnn_3.24.weight', 'dnn.dncnn_3.24.bias'])"
      ]
     },
     "execution_count": 6,
     "metadata": {},
     "output_type": "execute_result"
    }
   ],
   "source": [
    "x.keys()"
   ]
  },
  {
   "cell_type": "code",
   "execution_count": 7,
   "metadata": {},
   "outputs": [],
   "source": [
    "torch.save(x,'sigma_3.0.pt')"
   ]
  },
  {
   "cell_type": "code",
   "execution_count": null,
   "metadata": {},
   "outputs": [],
   "source": []
  }
 ],
 "metadata": {
  "interpreter": {
   "hash": "a99e516de19949fae3afbba0876b13ea4b5337744154d4f9b0208830ec754fac"
  },
  "kernelspec": {
   "display_name": "Python 3.9.7 ('blur')",
   "language": "python",
   "name": "python3"
  },
  "language_info": {
   "codemirror_mode": {
    "name": "ipython",
    "version": 3
   },
   "file_extension": ".py",
   "mimetype": "text/x-python",
   "name": "python",
   "nbconvert_exporter": "python",
   "pygments_lexer": "ipython3",
   "version": "3.9.7"
  },
  "orig_nbformat": 4
 },
 "nbformat": 4,
 "nbformat_minor": 2
}
