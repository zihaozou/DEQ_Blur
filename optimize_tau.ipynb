{
 "cells": [
  {
   "cell_type": "code",
   "execution_count": 29,
   "metadata": {},
   "outputs": [],
   "source": [
    "import torch\n",
    "from model.blur import BlurClass\n",
    "from model.dnn import DnCNN\n",
    "from model.jacob import jacobinNet\n",
    "from skimage.metrics import peak_signal_noise_ratio as psnr\n",
    "from tqdm import tqdm\n",
    "from dataset.dataset import get_matrix\n",
    "from scipy.optimize import fminbound\n",
    "from os import listdir,mkdir\n",
    "from PIL.Image import open as imopen\n",
    "import numpy as np\n",
    "from os.path import join,isdir\n",
    "import matplotlib.pyplot as plt\n",
    "from datetime import datetime\n",
    "from scipy.io import savemat\n",
    "now=datetime.now()"
   ]
  },
  {
   "cell_type": "code",
   "execution_count": 30,
   "metadata": {},
   "outputs": [],
   "source": [
    "def iterAlgo(gt,xInit,y,numIter,dObj,rObj,gamma,tau):\n",
    "    x=xInit\n",
    "    s=xInit.clone()\n",
    "    t = torch.tensor(1., dtype=torch.float32)\n",
    "    for i in tqdm(range(numIter)):\n",
    "        delta_g = dObj.grad(s, y)\n",
    "        reg=tau * (rObj(s, False, False))\n",
    "        xnext  =  torch.clamp(s - gamma * (delta_g.detach() + reg),0,1)\n",
    "        tnext = 0.5*(1+torch.sqrt(1+4*t*t))\n",
    "        s = xnext + ((t-1)/tnext)*(xnext-x)\n",
    "        t = tnext.detach()\n",
    "        x = xnext.detach()\n",
    "    PSNR=psnr(x.detach().cpu().numpy(),gt.numpy(),data_range=1)\n",
    "    return x,PSNR"
   ]
  },
  {
   "cell_type": "code",
   "execution_count": 31,
   "metadata": {},
   "outputs": [],
   "source": [
    "modelPath='/export1/project/zihao/DEQ_Blur/outputs/pretrain-sigma_3_k-k4_sigma-2.55/2022-03-26-14-18-46/ckpts/epoch_0_34.52.pt'\n",
    "kernelPath='/export1/project/zihao/DEQ_Blur/kernels/L09.mat'\n",
    "kernelType='k2'\n",
    "sigma=2.55\n",
    "imagePath='/export1/project/zihao/DEQ_Blur/set3c'\n",
    "patchSize=256\n",
    "device='cpu'\n",
    "gamma=1"
   ]
  },
  {
   "cell_type": "code",
   "execution_count": 32,
   "metadata": {},
   "outputs": [],
   "source": [
    "modelDict=torch.load(modelPath,map_location='cpu')['model']\n",
    "tau=modelDict['f.tau'].item()\n",
    "del modelDict['f.tau']\n",
    "for k in list(modelDict.keys()):\n",
    "    modelDict[k[10:]]=modelDict[k]\n",
    "    del modelDict[k]"
   ]
  },
  {
   "cell_type": "code",
   "execution_count": 33,
   "metadata": {},
   "outputs": [],
   "source": [
    "k,kt=get_matrix(kernelPath,kernelType)\n"
   ]
  },
  {
   "cell_type": "code",
   "execution_count": 34,
   "metadata": {},
   "outputs": [
    {
     "data": {
      "text/plain": [
       "<All keys matched successfully>"
      ]
     },
     "execution_count": 34,
     "metadata": {},
     "output_type": "execute_result"
    }
   ],
   "source": [
    "dObj=BlurClass(k,kt)\n",
    "rObj=jacobinNet(DnCNN())\n",
    "rObj.dnn.load_state_dict(modelDict)"
   ]
  },
  {
   "cell_type": "code",
   "execution_count": 28,
   "metadata": {},
   "outputs": [
    {
     "ename": "IndentationError",
     "evalue": "expected an indented block (<ipython-input-28-534b352eff94>, line 3)",
     "output_type": "error",
     "traceback": [
      "\u001b[0;36m  Input \u001b[0;32mIn [28]\u001b[0;36m\u001b[0m\n\u001b[0;31m    \u001b[0m\n\u001b[0m    ^\u001b[0m\n\u001b[0;31mIndentationError\u001b[0m\u001b[0;31m:\u001b[0m expected an indented block\n"
     ]
    }
   ],
   "source": [
    "imNameList=listdir(imagePath)\n",
    "if not isdir('outputs/optimizeTau'):\n",
    "    mkdir('outputs/optimizeTau')\n",
    "savePath=join('outputs/optimizeTau',now.strftime(\"%d-%b-%Y-%H-%M\"))\n",
    "mkdir(savePath)\n",
    "for imName in imNameList:\n",
    "    gt=torch.from_numpy(np.asarray(imopen(join(imagePath,imName)).transpose((2,0,1)))).float()/255.\n",
    "    y=BlurClass.imfilter(gt, k)+torch.FloatTensor(gt.size()).normal_(0,std=sigma/255.)\n",
    "    xInit=y.clone()\n",
    "    f=lambda tauInit: -(iterAlgo(xInit,y,100,dObj,rObj,gamma,tauInit)[1])\n",
    "    finalTau=fminbound(f, 0, tau, xtol = 5e-4, maxfun = 10, disp = 3)\n",
    "    recon,PSNR=iterAlgo(gt,y,y,100,dObj,rObj,gamma,finalTau)\n",
    "    saveName=imName.split('.')[0]\n",
    "    plt.imsave(join(savePath,f'{saveName}_psnr{PSNR:.2f}.jpg'),recon.detach().cpu().numpy().transpose((1,2,0)))\n",
    "    \n",
    "    "
   ]
  },
  {
   "cell_type": "code",
   "execution_count": null,
   "metadata": {},
   "outputs": [],
   "source": []
  }
 ],
 "metadata": {
  "interpreter": {
   "hash": "a99e516de19949fae3afbba0876b13ea4b5337744154d4f9b0208830ec754fac"
  },
  "kernelspec": {
   "display_name": "Python 3.9.7 ('blur')",
   "language": "python",
   "name": "python3"
  },
  "language_info": {
   "codemirror_mode": {
    "name": "ipython",
    "version": 3
   },
   "file_extension": ".py",
   "mimetype": "text/x-python",
   "name": "python",
   "nbconvert_exporter": "python",
   "pygments_lexer": "ipython3",
   "version": "3.9.7"
  },
  "orig_nbformat": 4
 },
 "nbformat": 4,
 "nbformat_minor": 2
}
